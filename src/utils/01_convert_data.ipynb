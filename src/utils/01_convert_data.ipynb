{
 "cells": [
  {
   "cell_type": "code",
   "execution_count": null,
   "metadata": {},
   "outputs": [],
   "source": [
    "import numpy as np\n",
    "import os"
   ]
  },
  {
   "cell_type": "code",
   "execution_count": null,
   "metadata": {},
   "outputs": [],
   "source": [
    "def output_to_file(data_x, data_y, output_path, folder='training'):\n",
    "    \n",
    "    for i, (x, y) in enumerate(zip(data_x, data_y)):\n",
    "        \n",
    "        output_folder = os.path.join(output_path, folder, f\"sim_{i}\")\n",
    "        \n",
    "        np.savez(output_folder, x=x, y=y)\n",
    "        \n",
    "    print(f\"finish saving {i+1} files in folder {os.path.join(output_path, folder)}\")"
   ]
  },
  {
   "cell_type": "code",
   "execution_count": null,
   "metadata": {},
   "outputs": [],
   "source": [
    "data_path = '/p/gpfs1/kong11/data/SMART/data_assimilation_toolbox_test_data/simulation_data/Datatemp_p_3D.npz'"
   ]
  },
  {
   "cell_type": "markdown",
   "metadata": {},
   "source": [
    "## Output training and validation data"
   ]
  },
  {
   "cell_type": "code",
   "execution_count": null,
   "metadata": {},
   "outputs": [],
   "source": [
    "d = np.load(data_path)\n",
    "\n",
    "# change it to nr, nx, ny, nz, (permeability, porosity, time)\n",
    "train_x = np.swapaxes(d['train_x'], 1, 3).astype(np.float32)\n",
    "train_y = np.swapaxes(d['train_y'], 1, 3).astype(np.float32)\n",
    "\n",
    "val_x = np.swapaxes(d['val_x'], 1, 3).astype(np.float32)\n",
    "val_y = np.swapaxes(d['val_y'], 1, 3).astype(np.float32)"
   ]
  },
  {
   "cell_type": "code",
   "execution_count": null,
   "metadata": {},
   "outputs": [],
   "source": [
    "output_path = '/p/gpfs1/kong11/data/SMART/data_assimilation_toolbox_test_data/simulation_data/normalized_training'\n",
    "output_to_file(train_x, train_y, output_path, folder='training')\n",
    "output_to_file(val_x, val_y, output_path, folder='validation')"
   ]
  },
  {
   "cell_type": "markdown",
   "metadata": {},
   "source": [
    "## Output test data"
   ]
  },
  {
   "cell_type": "code",
   "execution_count": null,
   "metadata": {},
   "outputs": [],
   "source": [
    "# change it to nr, nx, ny, nz, (permeability, porosity, time)\n",
    "test_x = np.swapaxes(d['tesx_x'], 1, 3).astype(np.float32)\n",
    "test_y = np.swapaxes(d['test_y'], 1, 3).astype(np.float32)"
   ]
  },
  {
   "cell_type": "code",
   "execution_count": null,
   "metadata": {},
   "outputs": [],
   "source": [
    "np.savez_compressed(os.path.join(output_path, 'test_data.npz'), test_x=test_x, test_y=test_y)"
   ]
  }
 ],
 "metadata": {
  "kernelspec": {
   "display_name": "opence",
   "language": "python",
   "name": "opence"
  },
  "language_info": {
   "codemirror_mode": {
    "name": "ipython",
    "version": 3
   },
   "file_extension": ".py",
   "mimetype": "text/x-python",
   "name": "python",
   "nbconvert_exporter": "python",
   "pygments_lexer": "ipython3",
   "version": "3.7.10"
  }
 },
 "nbformat": 4,
 "nbformat_minor": 4
}
